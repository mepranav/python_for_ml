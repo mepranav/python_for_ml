{
 "cells": [
  {
   "cell_type": "code",
   "execution_count": 1,
   "metadata": {},
   "outputs": [],
   "source": [
    "from sklearn import datasets\n",
    "from sklearn.model_selection import train_test_split\n",
    "import numpy as np\n",
    "import pandas as pd"
   ]
  },
  {
   "cell_type": "code",
   "execution_count": 2,
   "metadata": {},
   "outputs": [
    {
     "data": {
      "text/html": [
       "<div>\n",
       "<style scoped>\n",
       "    .dataframe tbody tr th:only-of-type {\n",
       "        vertical-align: middle;\n",
       "    }\n",
       "\n",
       "    .dataframe tbody tr th {\n",
       "        vertical-align: top;\n",
       "    }\n",
       "\n",
       "    .dataframe thead th {\n",
       "        text-align: right;\n",
       "    }\n",
       "</style>\n",
       "<table border=\"1\" class=\"dataframe\">\n",
       "  <thead>\n",
       "    <tr style=\"text-align: right;\">\n",
       "      <th></th>\n",
       "      <th>0</th>\n",
       "      <th>1</th>\n",
       "      <th>2</th>\n",
       "      <th>3</th>\n",
       "    </tr>\n",
       "  </thead>\n",
       "  <tbody>\n",
       "    <tr>\n",
       "      <th>0</th>\n",
       "      <td>5.1</td>\n",
       "      <td>3.5</td>\n",
       "      <td>1.4</td>\n",
       "      <td>0.2</td>\n",
       "    </tr>\n",
       "    <tr>\n",
       "      <th>1</th>\n",
       "      <td>4.9</td>\n",
       "      <td>3.0</td>\n",
       "      <td>1.4</td>\n",
       "      <td>0.2</td>\n",
       "    </tr>\n",
       "    <tr>\n",
       "      <th>2</th>\n",
       "      <td>4.7</td>\n",
       "      <td>3.2</td>\n",
       "      <td>1.3</td>\n",
       "      <td>0.2</td>\n",
       "    </tr>\n",
       "    <tr>\n",
       "      <th>3</th>\n",
       "      <td>4.6</td>\n",
       "      <td>3.1</td>\n",
       "      <td>1.5</td>\n",
       "      <td>0.2</td>\n",
       "    </tr>\n",
       "    <tr>\n",
       "      <th>4</th>\n",
       "      <td>5.0</td>\n",
       "      <td>3.6</td>\n",
       "      <td>1.4</td>\n",
       "      <td>0.2</td>\n",
       "    </tr>\n",
       "    <tr>\n",
       "      <th>...</th>\n",
       "      <td>...</td>\n",
       "      <td>...</td>\n",
       "      <td>...</td>\n",
       "      <td>...</td>\n",
       "    </tr>\n",
       "    <tr>\n",
       "      <th>145</th>\n",
       "      <td>6.7</td>\n",
       "      <td>3.0</td>\n",
       "      <td>5.2</td>\n",
       "      <td>2.3</td>\n",
       "    </tr>\n",
       "    <tr>\n",
       "      <th>146</th>\n",
       "      <td>6.3</td>\n",
       "      <td>2.5</td>\n",
       "      <td>5.0</td>\n",
       "      <td>1.9</td>\n",
       "    </tr>\n",
       "    <tr>\n",
       "      <th>147</th>\n",
       "      <td>6.5</td>\n",
       "      <td>3.0</td>\n",
       "      <td>5.2</td>\n",
       "      <td>2.0</td>\n",
       "    </tr>\n",
       "    <tr>\n",
       "      <th>148</th>\n",
       "      <td>6.2</td>\n",
       "      <td>3.4</td>\n",
       "      <td>5.4</td>\n",
       "      <td>2.3</td>\n",
       "    </tr>\n",
       "    <tr>\n",
       "      <th>149</th>\n",
       "      <td>5.9</td>\n",
       "      <td>3.0</td>\n",
       "      <td>5.1</td>\n",
       "      <td>1.8</td>\n",
       "    </tr>\n",
       "  </tbody>\n",
       "</table>\n",
       "<p>150 rows × 4 columns</p>\n",
       "</div>"
      ],
      "text/plain": [
       "       0    1    2    3\n",
       "0    5.1  3.5  1.4  0.2\n",
       "1    4.9  3.0  1.4  0.2\n",
       "2    4.7  3.2  1.3  0.2\n",
       "3    4.6  3.1  1.5  0.2\n",
       "4    5.0  3.6  1.4  0.2\n",
       "..   ...  ...  ...  ...\n",
       "145  6.7  3.0  5.2  2.3\n",
       "146  6.3  2.5  5.0  1.9\n",
       "147  6.5  3.0  5.2  2.0\n",
       "148  6.2  3.4  5.4  2.3\n",
       "149  5.9  3.0  5.1  1.8\n",
       "\n",
       "[150 rows x 4 columns]"
      ]
     },
     "execution_count": 2,
     "metadata": {},
     "output_type": "execute_result"
    }
   ],
   "source": [
    "iris = datasets.load_iris()\n",
    "X = pd.DataFrame(iris.data)\n",
    "X"
   ]
  },
  {
   "cell_type": "code",
   "execution_count": 4,
   "metadata": {},
   "outputs": [],
   "source": [
    "f=pd.read_csv('iris.csv')"
   ]
  },
  {
   "cell_type": "code",
   "execution_count": 5,
   "metadata": {},
   "outputs": [],
   "source": [
    "array = f.values\n",
    "X = array[:,0:4]\n",
    "Y = array[:,4]\n",
    "validation_size = 0.20\n",
    "seed = 7\n",
    "X_train, X_validation, Y_train, Y_validation = train_test_split(X, Y, test_size=validation_size, random_state=seed)"
   ]
  },
  {
   "cell_type": "code",
   "execution_count": 6,
   "metadata": {},
   "outputs": [
    {
     "data": {
      "text/plain": [
       "array([[127, 6.2, 2.8, 4.8],\n",
       "       [80, 5.7, 2.6, 3.5],\n",
       "       [23, 4.6, 3.6, 1.0],\n",
       "       [140, 6.9, 3.1, 5.4],\n",
       "       [75, 6.4, 2.9, 4.3],\n",
       "       [46, 4.8, 3.0, 1.4],\n",
       "       [37, 5.5, 3.5, 1.3],\n",
       "       [6, 5.4, 3.9, 1.7],\n",
       "       [18, 5.1, 3.5, 1.4],\n",
       "       [103, 7.1, 3.0, 5.9],\n",
       "       [125, 6.7, 3.3, 5.7],\n",
       "       [77, 6.8, 2.8, 4.8],\n",
       "       [133, 6.4, 2.8, 5.6],\n",
       "       [117, 6.5, 3.0, 5.5],\n",
       "       [96, 5.7, 3.0, 4.2],\n",
       "       [50, 5.0, 3.3, 1.4],\n",
       "       [66, 6.7, 3.1, 4.4],\n",
       "       [63, 6.0, 2.2, 4.0],\n",
       "       [112, 6.4, 2.7, 5.3],\n",
       "       [30, 4.7, 3.2, 1.6],\n",
       "       [4, 4.6, 3.1, 1.5],\n",
       "       [40, 5.1, 3.4, 1.5],\n",
       "       [118, 7.7, 3.8, 6.7],\n",
       "       [14, 4.3, 3.0, 1.1],\n",
       "       [101, 6.3, 3.3, 6.0],\n",
       "       [82, 5.5, 2.4, 3.7],\n",
       "       [61, 5.0, 2.0, 3.5],\n",
       "       [55, 6.5, 2.8, 4.6],\n",
       "       [27, 5.0, 3.4, 1.6],\n",
       "       [9, 4.4, 2.9, 1.4],\n",
       "       [44, 5.0, 3.5, 1.6],\n",
       "       [87, 6.7, 3.1, 4.7],\n",
       "       [108, 7.3, 2.9, 6.3],\n",
       "       [91, 5.5, 2.6, 4.4],\n",
       "       [60, 5.2, 2.7, 3.9],\n",
       "       [16, 5.7, 4.4, 1.5],\n",
       "       [126, 7.2, 3.2, 6.0],\n",
       "       [21, 5.4, 3.4, 1.7],\n",
       "       [15, 5.8, 4.0, 1.2],\n",
       "       [135, 6.1, 2.6, 5.6],\n",
       "       [114, 5.7, 2.5, 5.0],\n",
       "       [13, 4.8, 3.0, 1.4],\n",
       "       [105, 6.5, 3.0, 5.8],\n",
       "       [48, 4.6, 3.2, 1.4],\n",
       "       [59, 6.6, 2.9, 4.6],\n",
       "       [146, 6.7, 3.0, 5.2],\n",
       "       [92, 6.1, 3.0, 4.6],\n",
       "       [19, 5.7, 3.8, 1.7],\n",
       "       [51, 7.0, 3.2, 4.7],\n",
       "       [3, 4.7, 3.2, 1.3],\n",
       "       [148, 6.5, 3.0, 5.2],\n",
       "       [119, 7.7, 2.6, 6.9],\n",
       "       [58, 4.9, 2.4, 3.3],\n",
       "       [31, 4.8, 3.1, 1.6],\n",
       "       [34, 5.5, 4.2, 1.4],\n",
       "       [89, 5.6, 3.0, 4.1],\n",
       "       [116, 6.4, 3.2, 5.3],\n",
       "       [28, 5.2, 3.5, 1.5],\n",
       "       [132, 7.9, 3.8, 6.4],\n",
       "       [115, 5.8, 2.8, 5.1],\n",
       "       [97, 5.7, 2.9, 4.2],\n",
       "       [22, 5.1, 3.7, 1.5],\n",
       "       [99, 5.1, 2.5, 3.0],\n",
       "       [8, 5.0, 3.4, 1.5],\n",
       "       [123, 7.7, 2.8, 6.7],\n",
       "       [106, 7.6, 3.0, 6.6],\n",
       "       [36, 5.0, 3.2, 1.2],\n",
       "       [11, 5.4, 3.7, 1.5],\n",
       "       [145, 6.7, 3.3, 5.7],\n",
       "       [72, 6.1, 2.8, 4.0],\n",
       "       [147, 6.3, 2.5, 5.0],\n",
       "       [131, 7.4, 2.8, 6.1],\n",
       "       [94, 5.0, 2.3, 3.3],\n",
       "       [32, 5.4, 3.4, 1.5],\n",
       "       [17, 5.4, 3.9, 1.3],\n",
       "       [122, 5.6, 2.8, 4.9],\n",
       "       [2, 4.9, 3.0, 1.4],\n",
       "       [49, 5.3, 3.7, 1.5],\n",
       "       [84, 6.0, 2.7, 5.1],\n",
       "       [144, 6.8, 3.2, 5.9],\n",
       "       [149, 6.2, 3.4, 5.4],\n",
       "       [100, 5.7, 2.8, 4.1],\n",
       "       [88, 6.3, 2.3, 4.4],\n",
       "       [10, 4.9, 3.1, 1.5],\n",
       "       [142, 6.9, 3.1, 5.1],\n",
       "       [5, 5.0, 3.6, 1.4],\n",
       "       [39, 4.4, 3.0, 1.3],\n",
       "       [79, 6.0, 2.9, 4.5],\n",
       "       [74, 6.1, 2.8, 4.7],\n",
       "       [129, 6.4, 2.8, 5.6],\n",
       "       [35, 4.9, 3.1, 1.5],\n",
       "       [65, 5.6, 2.9, 3.6],\n",
       "       [62, 5.9, 3.0, 4.2],\n",
       "       [124, 6.3, 2.7, 4.9],\n",
       "       [113, 6.8, 3.0, 5.5],\n",
       "       [54, 5.5, 2.3, 4.0],\n",
       "       [134, 6.3, 2.8, 5.1],\n",
       "       [25, 4.8, 3.4, 1.9],\n",
       "       [57, 6.3, 3.3, 4.7],\n",
       "       [70, 5.6, 2.5, 3.9],\n",
       "       [45, 5.1, 3.8, 1.9],\n",
       "       [20, 5.1, 3.8, 1.5],\n",
       "       [7, 4.6, 3.4, 1.4],\n",
       "       [56, 5.7, 2.8, 4.5],\n",
       "       [76, 6.6, 3.0, 4.4],\n",
       "       [1, 5.1, 3.5, 1.4],\n",
       "       [136, 7.7, 3.0, 6.1],\n",
       "       [128, 6.1, 3.0, 4.9],\n",
       "       [69, 6.2, 2.2, 4.5],\n",
       "       [137, 6.3, 3.4, 5.6],\n",
       "       [43, 4.4, 3.2, 1.3],\n",
       "       [111, 6.5, 3.2, 5.1],\n",
       "       [90, 5.5, 2.5, 4.0],\n",
       "       [73, 6.3, 2.5, 4.9],\n",
       "       [24, 5.1, 3.3, 1.7],\n",
       "       [143, 5.8, 2.7, 5.1],\n",
       "       [93, 5.8, 2.6, 4.0],\n",
       "       [104, 6.3, 2.9, 5.6],\n",
       "       [68, 5.8, 2.7, 4.1],\n",
       "       [26, 5.0, 3.0, 1.6]], dtype=object)"
      ]
     },
     "execution_count": 6,
     "metadata": {},
     "output_type": "execute_result"
    }
   ],
   "source": [
    "X_train"
   ]
  },
  {
   "cell_type": "code",
   "execution_count": 7,
   "metadata": {},
   "outputs": [
    {
     "data": {
      "text/plain": [
       "array([1.8, 1.0, 0.2, 2.1, 1.3, 0.3, 0.2, 0.4, 0.3, 2.1, 2.1, 1.4, 2.2,\n",
       "       1.8, 1.2, 0.2, 1.4, 1.0, 1.9, 0.2, 0.2, 0.2, 2.2, 0.1, 2.5, 1.0,\n",
       "       1.0, 1.5, 0.4, 0.2, 0.6, 1.5, 1.8, 1.2, 1.4, 0.4, 1.8, 0.2, 0.2,\n",
       "       1.4, 2.0, 0.1, 2.2, 0.2, 1.3, 2.3, 1.4, 0.3, 1.4, 0.2, 2.0, 2.3,\n",
       "       1.0, 0.2, 0.2, 1.3, 2.3, 0.2, 2.0, 2.4, 1.3, 0.4, 1.1, 0.2, 2.0,\n",
       "       2.1, 0.2, 0.2, 2.5, 1.3, 1.9, 1.9, 1.0, 0.4, 0.4, 2.0, 0.2, 0.2,\n",
       "       1.6, 2.3, 2.3, 1.3, 1.3, 0.1, 2.3, 0.2, 0.2, 1.5, 1.2, 2.1, 0.1,\n",
       "       1.3, 1.5, 1.8, 2.1, 1.3, 1.5, 0.2, 1.6, 1.1, 0.4, 0.3, 0.3, 1.3,\n",
       "       1.4, 0.2, 2.3, 1.8, 1.5, 2.4, 0.2, 2.0, 1.3, 1.5, 0.5, 1.9, 1.2,\n",
       "       1.8, 1.0, 0.2], dtype=object)"
      ]
     },
     "execution_count": 7,
     "metadata": {},
     "output_type": "execute_result"
    }
   ],
   "source": [
    "Y_train"
   ]
  },
  {
   "cell_type": "code",
   "execution_count": 8,
   "metadata": {},
   "outputs": [
    {
     "data": {
      "text/plain": [
       "array([[150, 5.9, 3.0, 5.1],\n",
       "       [85, 5.4, 3.0, 4.5],\n",
       "       [41, 5.0, 3.5, 1.3],\n",
       "       [67, 5.6, 3.0, 4.5],\n",
       "       [107, 4.9, 2.5, 4.5],\n",
       "       [42, 4.5, 2.3, 1.3],\n",
       "       [53, 6.9, 3.1, 4.9],\n",
       "       [95, 5.6, 2.7, 4.2],\n",
       "       [12, 4.8, 3.4, 1.6],\n",
       "       [52, 6.4, 3.2, 4.5],\n",
       "       [78, 6.7, 3.0, 5.0],\n",
       "       [86, 6.0, 3.4, 4.5],\n",
       "       [33, 5.2, 4.1, 1.5],\n",
       "       [110, 7.2, 3.6, 6.1],\n",
       "       [29, 5.2, 3.4, 1.4],\n",
       "       [71, 5.9, 3.2, 4.8],\n",
       "       [109, 6.7, 2.5, 5.8],\n",
       "       [138, 6.4, 3.1, 5.5],\n",
       "       [47, 5.1, 3.8, 1.6],\n",
       "       [38, 4.9, 3.1, 1.5],\n",
       "       [83, 5.8, 2.7, 3.9],\n",
       "       [121, 6.9, 3.2, 5.7],\n",
       "       [64, 6.1, 2.9, 4.7],\n",
       "       [120, 6.0, 2.2, 5.0],\n",
       "       [130, 7.2, 3.0, 5.8],\n",
       "       [139, 6.0, 3.0, 4.8],\n",
       "       [98, 6.2, 2.9, 4.3],\n",
       "       [81, 5.5, 2.4, 3.8],\n",
       "       [102, 5.8, 2.7, 5.1],\n",
       "       [141, 6.7, 3.1, 5.6]], dtype=object)"
      ]
     },
     "execution_count": 8,
     "metadata": {},
     "output_type": "execute_result"
    }
   ],
   "source": [
    "X_validation"
   ]
  },
  {
   "cell_type": "code",
   "execution_count": 9,
   "metadata": {},
   "outputs": [
    {
     "data": {
      "text/plain": [
       "array([1.8, 1.5, 0.3, 1.5, 1.7, 0.3, 1.5, 1.3, 0.2, 1.5, 1.7, 1.6, 0.1,\n",
       "       2.5, 0.2, 1.8, 1.8, 1.8, 0.2, 0.1, 1.2, 2.3, 1.4, 1.5, 1.6, 1.8,\n",
       "       1.3, 1.1, 1.9, 2.4], dtype=object)"
      ]
     },
     "execution_count": 9,
     "metadata": {},
     "output_type": "execute_result"
    }
   ],
   "source": [
    "Y_validation"
   ]
  },
  {
   "cell_type": "code",
   "execution_count": 10,
   "metadata": {},
   "outputs": [
    {
     "name": "stdout",
     "output_type": "stream",
     "text": [
      "Requirement already satisfied: matplotlib in c:\\users\\asus\\appdata\\local\\packages\\pythonsoftwarefoundation.python.3.10_qbz5n2kfra8p0\\localcache\\local-packages\\python310\\site-packages (3.5.3)\n",
      "Requirement already satisfied: kiwisolver>=1.0.1 in c:\\users\\asus\\appdata\\local\\packages\\pythonsoftwarefoundation.python.3.10_qbz5n2kfra8p0\\localcache\\local-packages\\python310\\site-packages (from matplotlib) (1.4.4)\n",
      "Requirement already satisfied: fonttools>=4.22.0 in c:\\users\\asus\\appdata\\local\\packages\\pythonsoftwarefoundation.python.3.10_qbz5n2kfra8p0\\localcache\\local-packages\\python310\\site-packages (from matplotlib) (4.37.1)\n",
      "Requirement already satisfied: packaging>=20.0 in c:\\users\\asus\\appdata\\local\\packages\\pythonsoftwarefoundation.python.3.10_qbz5n2kfra8p0\\localcache\\local-packages\\python310\\site-packages (from matplotlib) (21.3)\n",
      "Requirement already satisfied: cycler>=0.10 in c:\\users\\asus\\appdata\\local\\packages\\pythonsoftwarefoundation.python.3.10_qbz5n2kfra8p0\\localcache\\local-packages\\python310\\site-packages (from matplotlib) (0.11.0)\n",
      "Requirement already satisfied: pyparsing>=2.2.1 in c:\\users\\asus\\appdata\\local\\packages\\pythonsoftwarefoundation.python.3.10_qbz5n2kfra8p0\\localcache\\local-packages\\python310\\site-packages (from matplotlib) (3.0.9)\n",
      "Requirement already satisfied: pillow>=6.2.0 in c:\\users\\asus\\appdata\\local\\packages\\pythonsoftwarefoundation.python.3.10_qbz5n2kfra8p0\\localcache\\local-packages\\python310\\site-packages (from matplotlib) (9.2.0)\n",
      "Requirement already satisfied: numpy>=1.17 in c:\\users\\asus\\appdata\\local\\packages\\pythonsoftwarefoundation.python.3.10_qbz5n2kfra8p0\\localcache\\local-packages\\python310\\site-packages (from matplotlib) (1.23.2)\n",
      "Requirement already satisfied: python-dateutil>=2.7 in c:\\users\\asus\\appdata\\local\\packages\\pythonsoftwarefoundation.python.3.10_qbz5n2kfra8p0\\localcache\\local-packages\\python310\\site-packages (from matplotlib) (2.8.2)\n",
      "Requirement already satisfied: six>=1.5 in c:\\users\\asus\\appdata\\local\\packages\\pythonsoftwarefoundation.python.3.10_qbz5n2kfra8p0\\localcache\\local-packages\\python310\\site-packages (from python-dateutil>=2.7->matplotlib) (1.16.0)\n",
      "Note: you may need to restart the kernel to use updated packages.\n"
     ]
    },
    {
     "name": "stderr",
     "output_type": "stream",
     "text": [
      "\n",
      "[notice] A new release of pip available: 22.2.1 -> 22.2.2\n",
      "[notice] To update, run: C:\\Users\\ASUS\\AppData\\Local\\Microsoft\\WindowsApps\\PythonSoftwareFoundation.Python.3.10_qbz5n2kfra8p0\\python.exe -m pip install --upgrade pip\n"
     ]
    }
   ],
   "source": [
    "pip install matplotlib"
   ]
  },
  {
   "cell_type": "code",
   "execution_count": 2,
   "metadata": {},
   "outputs": [
    {
     "name": "stdout",
     "output_type": "stream",
     "text": [
      "Collecting seabornNote: you may need to restart the kernel to use updated packages.\n"
     ]
    },
    {
     "name": "stderr",
     "output_type": "stream",
     "text": [
      "\n",
      "[notice] A new release of pip available: 22.2.1 -> 22.2.2\n",
      "[notice] To update, run: C:\\Users\\ASUS\\AppData\\Local\\Microsoft\\WindowsApps\\PythonSoftwareFoundation.Python.3.10_qbz5n2kfra8p0\\python.exe -m pip install --upgrade pip\n"
     ]
    },
    {
     "name": "stdout",
     "output_type": "stream",
     "text": [
      "\n",
      "  Downloading seaborn-0.12.0-py3-none-any.whl (285 kB)\n",
      "     ------------------------------------ 285.1/285.1 kB 978.2 kB/s eta 0:00:00\n",
      "Requirement already satisfied: numpy>=1.17 in c:\\users\\asus\\appdata\\local\\packages\\pythonsoftwarefoundation.python.3.10_qbz5n2kfra8p0\\localcache\\local-packages\\python310\\site-packages (from seaborn) (1.23.2)\n",
      "Requirement already satisfied: pandas>=0.25 in c:\\users\\asus\\appdata\\local\\packages\\pythonsoftwarefoundation.python.3.10_qbz5n2kfra8p0\\localcache\\local-packages\\python310\\site-packages (from seaborn) (1.4.4)\n",
      "Requirement already satisfied: matplotlib>=3.1 in c:\\users\\asus\\appdata\\local\\packages\\pythonsoftwarefoundation.python.3.10_qbz5n2kfra8p0\\localcache\\local-packages\\python310\\site-packages (from seaborn) (3.5.3)\n",
      "Requirement already satisfied: kiwisolver>=1.0.1 in c:\\users\\asus\\appdata\\local\\packages\\pythonsoftwarefoundation.python.3.10_qbz5n2kfra8p0\\localcache\\local-packages\\python310\\site-packages (from matplotlib>=3.1->seaborn) (1.4.4)\n",
      "Requirement already satisfied: cycler>=0.10 in c:\\users\\asus\\appdata\\local\\packages\\pythonsoftwarefoundation.python.3.10_qbz5n2kfra8p0\\localcache\\local-packages\\python310\\site-packages (from matplotlib>=3.1->seaborn) (0.11.0)\n",
      "Requirement already satisfied: pillow>=6.2.0 in c:\\users\\asus\\appdata\\local\\packages\\pythonsoftwarefoundation.python.3.10_qbz5n2kfra8p0\\localcache\\local-packages\\python310\\site-packages (from matplotlib>=3.1->seaborn) (9.2.0)\n",
      "Requirement already satisfied: fonttools>=4.22.0 in c:\\users\\asus\\appdata\\local\\packages\\pythonsoftwarefoundation.python.3.10_qbz5n2kfra8p0\\localcache\\local-packages\\python310\\site-packages (from matplotlib>=3.1->seaborn) (4.37.1)\n",
      "Requirement already satisfied: pyparsing>=2.2.1 in c:\\users\\asus\\appdata\\local\\packages\\pythonsoftwarefoundation.python.3.10_qbz5n2kfra8p0\\localcache\\local-packages\\python310\\site-packages (from matplotlib>=3.1->seaborn) (3.0.9)\n",
      "Requirement already satisfied: python-dateutil>=2.7 in c:\\users\\asus\\appdata\\local\\packages\\pythonsoftwarefoundation.python.3.10_qbz5n2kfra8p0\\localcache\\local-packages\\python310\\site-packages (from matplotlib>=3.1->seaborn) (2.8.2)\n",
      "Requirement already satisfied: packaging>=20.0 in c:\\users\\asus\\appdata\\local\\packages\\pythonsoftwarefoundation.python.3.10_qbz5n2kfra8p0\\localcache\\local-packages\\python310\\site-packages (from matplotlib>=3.1->seaborn) (21.3)\n",
      "Requirement already satisfied: pytz>=2020.1 in c:\\users\\asus\\appdata\\local\\packages\\pythonsoftwarefoundation.python.3.10_qbz5n2kfra8p0\\localcache\\local-packages\\python310\\site-packages (from pandas>=0.25->seaborn) (2022.2.1)\n",
      "Requirement already satisfied: six>=1.5 in c:\\users\\asus\\appdata\\local\\packages\\pythonsoftwarefoundation.python.3.10_qbz5n2kfra8p0\\localcache\\local-packages\\python310\\site-packages (from python-dateutil>=2.7->matplotlib>=3.1->seaborn) (1.16.0)\n",
      "Installing collected packages: seaborn\n",
      "Successfully installed seaborn-0.12.0\n"
     ]
    }
   ],
   "source": [
    "pip install seaborn"
   ]
  }
 ],
 "metadata": {
  "kernelspec": {
   "display_name": "Python 3.10.6 64-bit (microsoft store)",
   "language": "python",
   "name": "python3"
  },
  "language_info": {
   "codemirror_mode": {
    "name": "ipython",
    "version": 3
   },
   "file_extension": ".py",
   "mimetype": "text/x-python",
   "name": "python",
   "nbconvert_exporter": "python",
   "pygments_lexer": "ipython3",
   "version": "3.10.6"
  },
  "orig_nbformat": 4,
  "vscode": {
   "interpreter": {
    "hash": "65a440aeac0c89e2af7569e0aa53b64434c4b69eb6285e2b0d174d9bca190d54"
   }
  }
 },
 "nbformat": 4,
 "nbformat_minor": 2
}
